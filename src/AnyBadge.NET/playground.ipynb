{
 "cells": [
  {
   "cell_type": "code",
   "execution_count": 1,
   "metadata": {
    "dotnet_interactive": {
     "language": "fsharp"
    },
    "polyglot_notebook": {
     "kernelName": "fsharp"
    }
   },
   "outputs": [
    {
     "data": {
      "text/html": [
       "<div><div></div><div></div><div><strong>Installed Packages</strong><ul><li><span>Semver, 2.3.0</span></li></ul></div></div>"
      ]
     },
     "metadata": {},
     "output_type": "display_data"
    }
   ],
   "source": [
    "#r \"nuget: Semver\"\n",
    "#r \"bin/Debug/net6.0/AnyBadge.NET.dll\""
   ]
  },
  {
   "cell_type": "markdown",
   "metadata": {},
   "source": [
    "## Simple Badge"
   ]
  },
  {
   "cell_type": "code",
   "execution_count": 2,
   "metadata": {
    "dotnet_interactive": {
     "language": "fsharp"
    },
    "polyglot_notebook": {
     "kernelName": "fsharp"
    }
   },
   "outputs": [
    {
     "data": {
      "text/html": [
       "<?xml version=\"1.0\" encoding=\"UTF-8\"?>\r\n",
       "<svg xmlns=\"http://www.w3.org/2000/svg\" width=\"81\" height=\"20\">\r\n",
       "    <linearGradient id=\"b\" x2=\"0\" y2=\"100%\">\r\n",
       "        <stop offset=\"0\" stop-color=\"#bbb\" stop-opacity=\".1\"/>\r\n",
       "        <stop offset=\"1\" stop-opacity=\".1\"/>\r\n",
       "    </linearGradient>\r\n",
       "    <mask id=\"1\">\r\n",
       "        <rect width=\"81\" height=\"20\" rx=\"3\" fill=\"#fff\"/>\r\n",
       "    </mask>\r\n",
       "    <g mask=\"url(#1)\">\r\n",
       "        <path fill=\"#555\" d=\"M0 0h39v20H0z\"/>\r\n",
       "        <path fill=\"#4C1\" d=\"M39 0h42v20H39z\"/>\r\n",
       "        <path fill=\"url(#b)\" d=\"M0 0h81v20H0z\"/>\r\n",
       "    </g>\r\n",
       "    <g fill=\"#fff\" text-anchor=\"middle\" font-family=\"DejaVu Sans,Verdana,Geneva,sans-serif\" font-size=\"11\">\r\n",
       "        <text x=\"20.5\" y=\"15\" fill=\"#010101\" fill-opacity=\".3\">label</text>\r\n",
       "        <text x=\"19.5\" y=\"14\">label</text>\r\n",
       "    </g>\r\n",
       "    <g fill=\"#fff\" text-anchor=\"middle\" font-family=\"DejaVu Sans,Verdana,Geneva,sans-serif\" font-size=\"11\">\r\n",
       "        <text x=\"61\" y=\"15\" fill=\"#010101\" fill-opacity=\".3\">value</text>\r\n",
       "        <text x=\"60\" y=\"14\">value</text>\r\n",
       "    </g>\r\n",
       "</svg>\r\n"
      ]
     },
     "metadata": {},
     "output_type": "display_data"
    }
   ],
   "source": [
    "open AnyBadge.NET\n",
    "Badge(\n",
    "    label = \"label\",\n",
    "    value = \"value\"\n",
    ")\n",
    "    .BadgeSvgText\n",
    "    |> DisplayFunctions.HTML   "
   ]
  },
  {
   "cell_type": "markdown",
   "metadata": {},
   "source": [
    "Set color"
   ]
  },
  {
   "cell_type": "code",
   "execution_count": 3,
   "metadata": {
    "dotnet_interactive": {
     "language": "fsharp"
    },
    "polyglot_notebook": {
     "kernelName": "fsharp"
    }
   },
   "outputs": [
    {
     "data": {
      "text/html": [
       "<?xml version=\"1.0\" encoding=\"UTF-8\"?>\r\n",
       "<svg xmlns=\"http://www.w3.org/2000/svg\" width=\"81\" height=\"20\">\r\n",
       "    <linearGradient id=\"b\" x2=\"0\" y2=\"100%\">\r\n",
       "        <stop offset=\"0\" stop-color=\"#bbb\" stop-opacity=\".1\"/>\r\n",
       "        <stop offset=\"1\" stop-opacity=\".1\"/>\r\n",
       "    </linearGradient>\r\n",
       "    <mask id=\"2\">\r\n",
       "        <rect width=\"81\" height=\"20\" rx=\"3\" fill=\"#fff\"/>\r\n",
       "    </mask>\r\n",
       "    <g mask=\"url(#2)\">\r\n",
       "        <path fill=\"#555\" d=\"M0 0h39v20H0z\"/>\r\n",
       "        <path fill=\"#E05D44\" d=\"M39 0h42v20H39z\"/>\r\n",
       "        <path fill=\"url(#b)\" d=\"M0 0h81v20H0z\"/>\r\n",
       "    </g>\r\n",
       "    <g fill=\"#fff\" text-anchor=\"middle\" font-family=\"DejaVu Sans,Verdana,Geneva,sans-serif\" font-size=\"11\">\r\n",
       "        <text x=\"20.5\" y=\"15\" fill=\"#010101\" fill-opacity=\".3\">label</text>\r\n",
       "        <text x=\"19.5\" y=\"14\">label</text>\r\n",
       "    </g>\r\n",
       "    <g fill=\"#fff\" text-anchor=\"middle\" font-family=\"DejaVu Sans,Verdana,Geneva,sans-serif\" font-size=\"11\">\r\n",
       "        <text x=\"61\" y=\"15\" fill=\"#010101\" fill-opacity=\".3\">value</text>\r\n",
       "        <text x=\"60\" y=\"14\">value</text>\r\n",
       "    </g>\r\n",
       "</svg>\r\n"
      ]
     },
     "metadata": {},
     "output_type": "display_data"
    }
   ],
   "source": [
    "Badge(\n",
    "    label = \"label\",\n",
    "    value = \"value\",\n",
    "    DefaultColor = \"red\"\n",
    ")\n",
    "    .BadgeSvgText\n",
    "    |> DisplayFunctions.HTML   "
   ]
  },
  {
   "cell_type": "markdown",
   "metadata": {},
   "source": [
    "Or via typed colors"
   ]
  },
  {
   "cell_type": "code",
   "execution_count": 4,
   "metadata": {
    "dotnet_interactive": {
     "language": "fsharp"
    },
    "polyglot_notebook": {
     "kernelName": "fsharp"
    }
   },
   "outputs": [
    {
     "data": {
      "text/html": [
       "<?xml version=\"1.0\" encoding=\"UTF-8\"?>\r\n",
       "<svg xmlns=\"http://www.w3.org/2000/svg\" width=\"81\" height=\"20\">\r\n",
       "    <linearGradient id=\"b\" x2=\"0\" y2=\"100%\">\r\n",
       "        <stop offset=\"0\" stop-color=\"#bbb\" stop-opacity=\".1\"/>\r\n",
       "        <stop offset=\"1\" stop-opacity=\".1\"/>\r\n",
       "    </linearGradient>\r\n",
       "    <mask id=\"3\">\r\n",
       "        <rect width=\"81\" height=\"20\" rx=\"3\" fill=\"#fff\"/>\r\n",
       "    </mask>\r\n",
       "    <g mask=\"url(#3)\">\r\n",
       "        <path fill=\"#555\" d=\"M0 0h39v20H0z\"/>\r\n",
       "        <path fill=\"#FE7D37\" d=\"M39 0h42v20H39z\"/>\r\n",
       "        <path fill=\"url(#b)\" d=\"M0 0h81v20H0z\"/>\r\n",
       "    </g>\r\n",
       "    <g fill=\"#fff\" text-anchor=\"middle\" font-family=\"DejaVu Sans,Verdana,Geneva,sans-serif\" font-size=\"11\">\r\n",
       "        <text x=\"20.5\" y=\"15\" fill=\"#010101\" fill-opacity=\".3\">label</text>\r\n",
       "        <text x=\"19.5\" y=\"14\">label</text>\r\n",
       "    </g>\r\n",
       "    <g fill=\"#fff\" text-anchor=\"middle\" font-family=\"DejaVu Sans,Verdana,Geneva,sans-serif\" font-size=\"11\">\r\n",
       "        <text x=\"61\" y=\"15\" fill=\"#010101\" fill-opacity=\".3\">value</text>\r\n",
       "        <text x=\"60\" y=\"14\">value</text>\r\n",
       "    </g>\r\n",
       "</svg>\r\n"
      ]
     },
     "metadata": {},
     "output_type": "display_data"
    }
   ],
   "source": [
    "Badge(\n",
    "    label = \"label\",\n",
    "    value = \"value\",\n",
    "    defaultColor = ORANGE\n",
    ")\n",
    "    .BadgeSvgText\n",
    "    |> DisplayFunctions.HTML   "
   ]
  },
  {
   "cell_type": "code",
   "execution_count": null,
   "metadata": {
    "dotnet_interactive": {
     "language": "fsharp"
    },
    "polyglot_notebook": {
     "kernelName": "fsharp"
    }
   },
   "outputs": [],
   "source": []
  },
  {
   "cell_type": "markdown",
   "metadata": {},
   "source": [
    "Value type can be infered from a string"
   ]
  },
  {
   "cell_type": "code",
   "execution_count": 12,
   "metadata": {
    "dotnet_interactive": {
     "language": "fsharp"
    },
    "polyglot_notebook": {
     "kernelName": "fsharp"
    }
   },
   "outputs": [
    {
     "name": "stdout",
     "output_type": "stream",
     "text": [
      "IntValue\n"
     ]
    },
    {
     "data": {
      "text/html": [
       "<?xml version=\"1.0\" encoding=\"UTF-8\"?>\r\n",
       "<svg xmlns=\"http://www.w3.org/2000/svg\" width=\"119\" height=\"20\">\r\n",
       "    <linearGradient id=\"b\" x2=\"0\" y2=\"100%\">\r\n",
       "        <stop offset=\"0\" stop-color=\"#bbb\" stop-opacity=\".1\"/>\r\n",
       "        <stop offset=\"1\" stop-opacity=\".1\"/>\r\n",
       "    </linearGradient>\r\n",
       "    <mask id=\"10\">\r\n",
       "        <rect width=\"119\" height=\"20\" rx=\"3\" fill=\"#fff\"/>\r\n",
       "    </mask>\r\n",
       "    <g mask=\"url(#10)\">\r\n",
       "        <path fill=\"#555\" d=\"M0 0h76v20H0z\"/>\r\n",
       "        <path fill=\"#4C1\" d=\"M76 0h43v20H76z\"/>\r\n",
       "        <path fill=\"url(#b)\" d=\"M0 0h119v20H0z\"/>\r\n",
       "    </g>\r\n",
       "    <g fill=\"#fff\" text-anchor=\"middle\" font-family=\"DejaVu Sans,Verdana,Geneva,sans-serif\" font-size=\"11\">\r\n",
       "        <text x=\"39\" y=\"15\" fill=\"#010101\" fill-opacity=\".3\">ARC quality</text>\r\n",
       "        <text x=\"38\" y=\"14\">ARC quality</text>\r\n",
       "    </g>\r\n",
       "    <g fill=\"#fff\" text-anchor=\"middle\" font-family=\"DejaVu Sans,Verdana,Geneva,sans-serif\" font-size=\"11\">\r\n",
       "        <text x=\"98.5\" y=\"15\" fill=\"#010101\" fill-opacity=\".3\">16/20</text>\r\n",
       "        <text x=\"97.5\" y=\"14\">16/20</text>\r\n",
       "    </g>\r\n",
       "</svg>\r\n"
      ]
     },
     "metadata": {},
     "output_type": "display_data"
    }
   ],
   "source": [
    "open Semver\n",
    "open AnyBadge.NET\n",
    "\n",
    "let badge = \n",
    "    Badge(\n",
    "        label = \"ARC quality\", \n",
    "        value = \"16\", \n",
    "        DefaultColor = \"gray\", \n",
    "        Thresholds = ([| (\"15\", \"yellow\"); (\"20\", \"green\"); (\"10\", \"bright_red\"); |] |> Map.ofArray),\n",
    "        ValueSuffix = \"/20\"\n",
    "    )\n",
    "printfn $\"{badge.ValueType}\" \n",
    "\n",
    "badge\n",
    "    .BadgeSvgText\n",
    "    |> DisplayFunctions.HTML"
   ]
  },
  {
   "cell_type": "code",
   "execution_count": 11,
   "metadata": {
    "dotnet_interactive": {
     "language": "fsharp"
    },
    "polyglot_notebook": {
     "kernelName": "fsharp"
    }
   },
   "outputs": [
    {
     "name": "stdout",
     "output_type": "stream",
     "text": [
      "SemverValue\n"
     ]
    },
    {
     "data": {
      "text/html": [
       "<?xml version=\"1.0\" encoding=\"UTF-8\"?>\r\n",
       "<svg xmlns=\"http://www.w3.org/2000/svg\" width=\"119\" height=\"20\">\r\n",
       "    <linearGradient id=\"b\" x2=\"0\" y2=\"100%\">\r\n",
       "        <stop offset=\"0\" stop-color=\"#bbb\" stop-opacity=\".1\"/>\r\n",
       "        <stop offset=\"1\" stop-opacity=\".1\"/>\r\n",
       "    </linearGradient>\r\n",
       "    <mask id=\"9\">\r\n",
       "        <rect width=\"119\" height=\"20\" rx=\"3\" fill=\"#fff\"/>\r\n",
       "    </mask>\r\n",
       "    <g mask=\"url(#9)\">\r\n",
       "        <path fill=\"#555\" d=\"M0 0h76v20H0z\"/>\r\n",
       "        <path fill=\"#4C1\" d=\"M76 0h43v20H76z\"/>\r\n",
       "        <path fill=\"url(#b)\" d=\"M0 0h119v20H0z\"/>\r\n",
       "    </g>\r\n",
       "    <g fill=\"#fff\" text-anchor=\"middle\" font-family=\"DejaVu Sans,Verdana,Geneva,sans-serif\" font-size=\"11\">\r\n",
       "        <text x=\"39\" y=\"15\" fill=\"#010101\" fill-opacity=\".3\">ARC quality</text>\r\n",
       "        <text x=\"38\" y=\"14\">ARC quality</text>\r\n",
       "    </g>\r\n",
       "    <g fill=\"#fff\" text-anchor=\"middle\" font-family=\"DejaVu Sans,Verdana,Geneva,sans-serif\" font-size=\"11\">\r\n",
       "        <text x=\"98.5\" y=\"15\" fill=\"#010101\" fill-opacity=\".3\">16/20</text>\r\n",
       "        <text x=\"97.5\" y=\"14\">16/20</text>\r\n",
       "    </g>\r\n",
       "</svg>\r\n"
      ]
     },
     "metadata": {},
     "output_type": "display_data"
    }
   ],
   "source": [
    "let badge = \n",
    "    Badge(\n",
    "        label = \"ARC quality\", \n",
    "        value = \"16\", \n",
    "        DefaultColor = \"gray\", \n",
    "        Thresholds = ([| (\"15\", \"yellow\"); (\"20\", \"green\"); (\"10\", \"bright_red\"); |] |> Map.ofArray),\n",
    "        ValueSuffix = \"/20\",\n",
    "        Semver = true\n",
    "    )\n",
    "printfn $\"{badge.ValueType}\" \n",
    "\n",
    "badge\n",
    "    .BadgeSvgText\n",
    "    |> DisplayFunctions.HTML"
   ]
  },
  {
   "cell_type": "markdown",
   "metadata": {},
   "source": [
    "or use a typed constructor overload"
   ]
  },
  {
   "cell_type": "code",
   "execution_count": 18,
   "metadata": {
    "dotnet_interactive": {
     "language": "fsharp"
    },
    "polyglot_notebook": {
     "kernelName": "fsharp"
    }
   },
   "outputs": [
    {
     "name": "stdout",
     "output_type": "stream",
     "text": [
      "FloatValue\n"
     ]
    },
    {
     "data": {
      "text/html": [
       "<?xml version=\"1.0\" encoding=\"UTF-8\"?>\r\n",
       "<svg xmlns=\"http://www.w3.org/2000/svg\" width=\"131\" height=\"20\">\r\n",
       "    <linearGradient id=\"b\" x2=\"0\" y2=\"100%\">\r\n",
       "        <stop offset=\"0\" stop-color=\"#bbb\" stop-opacity=\".1\"/>\r\n",
       "        <stop offset=\"1\" stop-opacity=\".1\"/>\r\n",
       "    </linearGradient>\r\n",
       "    <mask id=\"13\">\r\n",
       "        <rect width=\"131\" height=\"20\" rx=\"3\" fill=\"#fff\"/>\r\n",
       "    </mask>\r\n",
       "    <g mask=\"url(#13)\">\r\n",
       "        <path fill=\"#555\" d=\"M0 0h76v20H0z\"/>\r\n",
       "        <path fill=\"#4C1\" d=\"M76 0h55v20H76z\"/>\r\n",
       "        <path fill=\"url(#b)\" d=\"M0 0h131v20H0z\"/>\r\n",
       "    </g>\r\n",
       "    <g fill=\"#fff\" text-anchor=\"middle\" font-family=\"DejaVu Sans,Verdana,Geneva,sans-serif\" font-size=\"11\">\r\n",
       "        <text x=\"39\" y=\"15\" fill=\"#010101\" fill-opacity=\".3\">ARC quality</text>\r\n",
       "        <text x=\"38\" y=\"14\">ARC quality</text>\r\n",
       "    </g>\r\n",
       "    <g fill=\"#fff\" text-anchor=\"middle\" font-family=\"DejaVu Sans,Verdana,Geneva,sans-serif\" font-size=\"11\">\r\n",
       "        <text x=\"104.5\" y=\"15\" fill=\"#010101\" fill-opacity=\".3\">16.5/20</text>\r\n",
       "        <text x=\"103.5\" y=\"14\">16.5/20</text>\r\n",
       "    </g>\r\n",
       "</svg>\r\n"
      ]
     },
     "metadata": {},
     "output_type": "display_data"
    }
   ],
   "source": [
    "let badge = \n",
    "    Badge(\n",
    "        label = \"ARC quality\", \n",
    "        value = 16.5, \n",
    "        DefaultColor = \"gray\", \n",
    "        Thresholds = ([| (15., \"yellow\"); (20., \"green\"); (10., \"bright_red\"); |] |> Map.ofArray),\n",
    "        ValueSuffix = \"/20\"\n",
    "    )\n",
    "printfn $\"{badge.ValueType}\" \n",
    "\n",
    "badge\n",
    "    .BadgeSvgText\n",
    "    |> DisplayFunctions.HTML"
   ]
  }
 ],
 "metadata": {
  "kernelspec": {
   "display_name": ".NET (C#)",
   "language": "C#",
   "name": ".net-csharp"
  },
  "language_info": {
   "name": "polyglot-notebook"
  },
  "polyglot_notebook": {
   "kernelInfo": {
    "defaultKernelName": "csharp",
    "items": [
     {
      "aliases": [],
      "name": "csharp"
     },
     {
      "aliases": [],
      "languageName": "fsharp",
      "name": "fsharp"
     }
    ]
   }
  }
 },
 "nbformat": 4,
 "nbformat_minor": 2
}
