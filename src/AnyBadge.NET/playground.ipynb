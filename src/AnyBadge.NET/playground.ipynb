{
 "cells": [
  {
   "cell_type": "code",
   "execution_count": 1,
   "metadata": {
    "dotnet_interactive": {
     "language": "fsharp"
    },
    "polyglot_notebook": {
     "kernelName": "fsharp"
    }
   },
   "outputs": [
    {
     "data": {
      "text/html": [
       "<div><div></div><div></div><div><strong>Installed Packages</strong><ul><li><span>Semver, 2.3.0</span></li></ul></div></div>"
      ]
     },
     "metadata": {},
     "output_type": "display_data"
    }
   ],
   "source": [
    "#r \"nuget: Semver\"\n",
    "#r \"bin/Debug/net6.0/AnyBadge.NET.dll\""
   ]
  },
  {
   "cell_type": "code",
   "execution_count": 6,
   "metadata": {
    "dotnet_interactive": {
     "language": "fsharp"
    },
    "polyglot_notebook": {
     "kernelName": "fsharp"
    }
   },
   "outputs": [
    {
     "data": {
      "text/html": [
       "<?xml version=\"1.0\" encoding=\"UTF-8\"?>\r\n",
       "<svg xmlns=\"http://www.w3.org/2000/svg\" width=\"65\" height=\"20\">\r\n",
       "    <linearGradient id=\"b\" x2=\"0\" y2=\"100%\">\r\n",
       "        <stop offset=\"0\" stop-color=\"#bbb\" stop-opacity=\".1\"/>\r\n",
       "        <stop offset=\"1\" stop-opacity=\".1\"/>\r\n",
       "    </linearGradient>\r\n",
       "    <mask id=\"{{ mask id }}\">\r\n",
       "        <rect width=\"65\" height=\"20\" rx=\"3\" fill=\"#fff\"/>\r\n",
       "    </mask>\r\n",
       "    <g mask=\"url(#{{ mask id }})\">\r\n",
       "        <path fill=\"#555\" d=\"M0 0h34v20H0z\"/>\r\n",
       "        <path fill=\"#FFC0CB\" d=\"M34 0h31v20H34z\"/>\r\n",
       "        <path fill=\"url(#b)\" d=\"M0 0h65v20H0z\"/>\r\n",
       "    </g>\r\n",
       "    <g fill=\"#fff\" text-anchor=\"middle\" font-family=\"DejaVu Sans,Verdana,Geneva,sans-serif\" font-size=\"11\">\r\n",
       "        <text x=\"18\" y=\"15\" fill=\"#010101\" fill-opacity=\".3\">test</text>\r\n",
       "        <text x=\"17\" y=\"14\">test</text>\r\n",
       "    </g>\r\n",
       "    <g fill=\"#fff\" text-anchor=\"middle\" font-family=\"DejaVu Sans,Verdana,Geneva,sans-serif\" font-size=\"11\">\r\n",
       "        <text x=\"50.5\" y=\"15\" fill=\"#010101\" fill-opacity=\".3\">200</text>\r\n",
       "        <text x=\"49.5\" y=\"14\">200</text>\r\n",
       "    </g>\r\n",
       "</svg>\r\n"
      ]
     },
     "metadata": {},
     "output_type": "display_data"
    }
   ],
   "source": [
    "open Semver\n",
    "open AnyBadge.NET\n",
    "\n",
    "Badge(\n",
    "    Label = \"test\", \n",
    "    Value = \"200\", \n",
    "    DefaultColor = \"PINK\", \n",
    "    TextColor = \"#fff\",\n",
    "    Thresholds = ([| (\"20\", \"YELLOW\"); (\"30\", \"GREEN\"); (\"10\", \"BRIGHT_RED\"); |] |> Map.ofArray),\n",
    "    UseMaxWhenValueExceeds = false,\n",
    "    Semver = true\n",
    ")\n",
    "    .BadgeSvgText\n",
    "    |> DisplayFunctions.HTML"
   ]
  }
 ],
 "metadata": {
  "kernelspec": {
   "display_name": ".NET (C#)",
   "language": "C#",
   "name": ".net-csharp"
  },
  "language_info": {
   "name": "polyglot-notebook"
  },
  "polyglot_notebook": {
   "kernelInfo": {
    "defaultKernelName": "csharp",
    "items": [
     {
      "aliases": [],
      "name": "csharp"
     },
     {
      "aliases": [],
      "languageName": "fsharp",
      "name": "fsharp"
     }
    ]
   }
  }
 },
 "nbformat": 4,
 "nbformat_minor": 2
}
