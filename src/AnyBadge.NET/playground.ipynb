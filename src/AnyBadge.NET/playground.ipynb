{
 "cells": [
  {
   "cell_type": "code",
   "execution_count": 1,
   "metadata": {
    "dotnet_interactive": {
     "language": "fsharp"
    },
    "polyglot_notebook": {
     "kernelName": "fsharp"
    }
   },
   "outputs": [
    {
     "data": {
      "text/html": [
       "<div><div></div><div></div><div><strong>Installed Packages</strong><ul><li><span>AnyBadge.NET, 1.0.0</span></li></ul></div></div>"
      ]
     },
     "metadata": {},
     "output_type": "display_data"
    }
   ],
   "source": [
    "#r \"nuget: AnyBadge.NET\"\n",
    "// #r \"nuget: Semver\"\n",
    "// #r \"bin/Debug/net6.0/AnyBadge.NET.dll\" for local development"
   ]
  },
  {
   "cell_type": "markdown",
   "metadata": {},
   "source": [
    "## Simple Badge"
   ]
  },
  {
   "cell_type": "code",
   "execution_count": 2,
   "metadata": {
    "dotnet_interactive": {
     "language": "fsharp"
    },
    "polyglot_notebook": {
     "kernelName": "fsharp"
    }
   },
   "outputs": [
    {
     "data": {
      "text/html": [
       "<?xml version=\"1.0\" encoding=\"UTF-8\"?>\r\n",
       "<svg xmlns=\"http://www.w3.org/2000/svg\" width=\"81\" height=\"20\">\r\n",
       "    <linearGradient id=\"b\" x2=\"0\" y2=\"100%\">\r\n",
       "        <stop offset=\"0\" stop-color=\"#bbb\" stop-opacity=\".1\"/>\r\n",
       "        <stop offset=\"1\" stop-opacity=\".1\"/>\r\n",
       "    </linearGradient>\r\n",
       "    <mask id=\"1\">\r\n",
       "        <rect width=\"81\" height=\"20\" rx=\"3\" fill=\"#fff\"/>\r\n",
       "    </mask>\r\n",
       "    <g mask=\"url(#1)\">\r\n",
       "        <path fill=\"#555\" d=\"M0 0h39v20H0z\"/>\r\n",
       "        <path fill=\"#4C1\" d=\"M39 0h42v20H39z\"/>\r\n",
       "        <path fill=\"url(#b)\" d=\"M0 0h81v20H0z\"/>\r\n",
       "    </g>\r\n",
       "    <g fill=\"#fff\" text-anchor=\"middle\" font-family=\"DejaVu Sans,Verdana,Geneva,sans-serif\" font-size=\"11\">\r\n",
       "        <text x=\"20.5\" y=\"15\" fill=\"#010101\" fill-opacity=\".3\">label</text>\r\n",
       "        <text x=\"19.5\" y=\"14\">label</text>\r\n",
       "    </g>\r\n",
       "    <g fill=\"#fff\" text-anchor=\"middle\" font-family=\"DejaVu Sans,Verdana,Geneva,sans-serif\" font-size=\"11\">\r\n",
       "        <text x=\"61\" y=\"15\" fill=\"#010101\" fill-opacity=\".3\">value</text>\r\n",
       "        <text x=\"60\" y=\"14\">value</text>\r\n",
       "    </g>\r\n",
       "</svg>\r\n"
      ]
     },
     "metadata": {},
     "output_type": "display_data"
    }
   ],
   "source": [
    "open AnyBadge.NET\n",
    "Badge(\n",
    "    label = \"label\",\n",
    "    value = \"value\"\n",
    ")\n",
    "    .BadgeSvgText\n",
    "    |> DisplayFunctions.HTML   "
   ]
  },
  {
   "cell_type": "markdown",
   "metadata": {},
   "source": [
    "Set color"
   ]
  },
  {
   "cell_type": "code",
   "execution_count": 3,
   "metadata": {
    "dotnet_interactive": {
     "language": "fsharp"
    },
    "polyglot_notebook": {
     "kernelName": "fsharp"
    }
   },
   "outputs": [
    {
     "data": {
      "text/html": [
       "<?xml version=\"1.0\" encoding=\"UTF-8\"?>\r\n",
       "<svg xmlns=\"http://www.w3.org/2000/svg\" width=\"81\" height=\"20\">\r\n",
       "    <linearGradient id=\"b\" x2=\"0\" y2=\"100%\">\r\n",
       "        <stop offset=\"0\" stop-color=\"#bbb\" stop-opacity=\".1\"/>\r\n",
       "        <stop offset=\"1\" stop-opacity=\".1\"/>\r\n",
       "    </linearGradient>\r\n",
       "    <mask id=\"2\">\r\n",
       "        <rect width=\"81\" height=\"20\" rx=\"3\" fill=\"#fff\"/>\r\n",
       "    </mask>\r\n",
       "    <g mask=\"url(#2)\">\r\n",
       "        <path fill=\"#555\" d=\"M0 0h39v20H0z\"/>\r\n",
       "        <path fill=\"#E05D44\" d=\"M39 0h42v20H39z\"/>\r\n",
       "        <path fill=\"url(#b)\" d=\"M0 0h81v20H0z\"/>\r\n",
       "    </g>\r\n",
       "    <g fill=\"#fff\" text-anchor=\"middle\" font-family=\"DejaVu Sans,Verdana,Geneva,sans-serif\" font-size=\"11\">\r\n",
       "        <text x=\"20.5\" y=\"15\" fill=\"#010101\" fill-opacity=\".3\">label</text>\r\n",
       "        <text x=\"19.5\" y=\"14\">label</text>\r\n",
       "    </g>\r\n",
       "    <g fill=\"#fff\" text-anchor=\"middle\" font-family=\"DejaVu Sans,Verdana,Geneva,sans-serif\" font-size=\"11\">\r\n",
       "        <text x=\"61\" y=\"15\" fill=\"#010101\" fill-opacity=\".3\">value</text>\r\n",
       "        <text x=\"60\" y=\"14\">value</text>\r\n",
       "    </g>\r\n",
       "</svg>\r\n"
      ]
     },
     "metadata": {},
     "output_type": "display_data"
    }
   ],
   "source": [
    "Badge(\n",
    "    label = \"label\",\n",
    "    value = \"value\",\n",
    "    DefaultColor = \"red\"\n",
    ")\n",
    "    .BadgeSvgText\n",
    "    |> DisplayFunctions.HTML   "
   ]
  },
  {
   "cell_type": "markdown",
   "metadata": {},
   "source": [
    "Or via typed colors"
   ]
  },
  {
   "cell_type": "code",
   "execution_count": 4,
   "metadata": {
    "dotnet_interactive": {
     "language": "fsharp"
    },
    "polyglot_notebook": {
     "kernelName": "fsharp"
    }
   },
   "outputs": [
    {
     "data": {
      "text/html": [
       "<?xml version=\"1.0\" encoding=\"UTF-8\"?>\r\n",
       "<svg xmlns=\"http://www.w3.org/2000/svg\" width=\"81\" height=\"20\">\r\n",
       "    <linearGradient id=\"b\" x2=\"0\" y2=\"100%\">\r\n",
       "        <stop offset=\"0\" stop-color=\"#bbb\" stop-opacity=\".1\"/>\r\n",
       "        <stop offset=\"1\" stop-opacity=\".1\"/>\r\n",
       "    </linearGradient>\r\n",
       "    <mask id=\"3\">\r\n",
       "        <rect width=\"81\" height=\"20\" rx=\"3\" fill=\"#fff\"/>\r\n",
       "    </mask>\r\n",
       "    <g mask=\"url(#3)\">\r\n",
       "        <path fill=\"#555\" d=\"M0 0h39v20H0z\"/>\r\n",
       "        <path fill=\"#FE7D37\" d=\"M39 0h42v20H39z\"/>\r\n",
       "        <path fill=\"url(#b)\" d=\"M0 0h81v20H0z\"/>\r\n",
       "    </g>\r\n",
       "    <g fill=\"#fff\" text-anchor=\"middle\" font-family=\"DejaVu Sans,Verdana,Geneva,sans-serif\" font-size=\"11\">\r\n",
       "        <text x=\"20.5\" y=\"15\" fill=\"#010101\" fill-opacity=\".3\">label</text>\r\n",
       "        <text x=\"19.5\" y=\"14\">label</text>\r\n",
       "    </g>\r\n",
       "    <g fill=\"#fff\" text-anchor=\"middle\" font-family=\"DejaVu Sans,Verdana,Geneva,sans-serif\" font-size=\"11\">\r\n",
       "        <text x=\"61\" y=\"15\" fill=\"#010101\" fill-opacity=\".3\">value</text>\r\n",
       "        <text x=\"60\" y=\"14\">value</text>\r\n",
       "    </g>\r\n",
       "</svg>\r\n"
      ]
     },
     "metadata": {},
     "output_type": "display_data"
    }
   ],
   "source": [
    "Badge(\n",
    "    label = \"label\",\n",
    "    value = \"value\",\n",
    "    defaultColor = ORANGE\n",
    ")\n",
    "    .BadgeSvgText\n",
    "    |> DisplayFunctions.HTML   "
   ]
  },
  {
   "cell_type": "markdown",
   "metadata": {},
   "source": [
    "Set value format"
   ]
  },
  {
   "cell_type": "code",
   "execution_count": 14,
   "metadata": {
    "dotnet_interactive": {
     "language": "fsharp"
    },
    "polyglot_notebook": {
     "kernelName": "fsharp"
    }
   },
   "outputs": [
    {
     "data": {
      "text/html": [
       "<?xml version=\"1.0\" encoding=\"UTF-8\"?>\r\n",
       "<svg xmlns=\"http://www.w3.org/2000/svg\" width=\"163\" height=\"20\">\r\n",
       "    <linearGradient id=\"b\" x2=\"0\" y2=\"100%\">\r\n",
       "        <stop offset=\"0\" stop-color=\"#bbb\" stop-opacity=\".1\"/>\r\n",
       "        <stop offset=\"1\" stop-opacity=\".1\"/>\r\n",
       "    </linearGradient>\r\n",
       "    <mask id=\"9\">\r\n",
       "        <rect width=\"163\" height=\"20\" rx=\"3\" fill=\"#fff\"/>\r\n",
       "    </mask>\r\n",
       "    <g mask=\"url(#9)\">\r\n",
       "        <path fill=\"#555\" d=\"M0 0h39v20H0z\"/>\r\n",
       "        <path fill=\"#FE7D37\" d=\"M39 0h124v20H39z\"/>\r\n",
       "        <path fill=\"url(#b)\" d=\"M0 0h163v20H0z\"/>\r\n",
       "    </g>\r\n",
       "    <g fill=\"#fff\" text-anchor=\"middle\" font-family=\"DejaVu Sans,Verdana,Geneva,sans-serif\" font-size=\"11\">\r\n",
       "        <text x=\"20.5\" y=\"15\" fill=\"#010101\" fill-opacity=\".3\">label</text>\r\n",
       "        <text x=\"19.5\" y=\"14\">label</text>\r\n",
       "    </g>\r\n",
       "    <g fill=\"#fff\" text-anchor=\"middle\" font-family=\"DejaVu Sans,Verdana,Geneva,sans-serif\" font-size=\"11\">\r\n",
       "        <text x=\"102\" y=\"15\" fill=\"#010101\" fill-opacity=\".3\">'value' is the value</text>\r\n",
       "        <text x=\"101\" y=\"14\">'value' is the value</text>\r\n",
       "    </g>\r\n",
       "</svg>\r\n"
      ]
     },
     "metadata": {},
     "output_type": "display_data"
    }
   ],
   "source": [
    "Badge(\n",
    "    label = \"label\",\n",
    "    value = \"value\",\n",
    "    defaultColor = ORANGE,\n",
    "    ValueFormat = (Printf.StringFormat<_>(\"'%s' is the value\"))\n",
    ")\n",
    "    .BadgeSvgText\n",
    "    |> DisplayFunctions.HTML   "
   ]
  },
  {
   "cell_type": "markdown",
   "metadata": {},
   "source": [
    "Value type can be infered from a string"
   ]
  },
  {
   "cell_type": "code",
   "execution_count": 5,
   "metadata": {
    "dotnet_interactive": {
     "language": "fsharp"
    },
    "polyglot_notebook": {
     "kernelName": "fsharp"
    }
   },
   "outputs": [
    {
     "name": "stdout",
     "output_type": "stream",
     "text": [
      "IntValue\n"
     ]
    },
    {
     "data": {
      "text/html": [
       "<?xml version=\"1.0\" encoding=\"UTF-8\"?>\r\n",
       "<svg xmlns=\"http://www.w3.org/2000/svg\" width=\"119\" height=\"20\">\r\n",
       "    <linearGradient id=\"b\" x2=\"0\" y2=\"100%\">\r\n",
       "        <stop offset=\"0\" stop-color=\"#bbb\" stop-opacity=\".1\"/>\r\n",
       "        <stop offset=\"1\" stop-opacity=\".1\"/>\r\n",
       "    </linearGradient>\r\n",
       "    <mask id=\"4\">\r\n",
       "        <rect width=\"119\" height=\"20\" rx=\"3\" fill=\"#fff\"/>\r\n",
       "    </mask>\r\n",
       "    <g mask=\"url(#4)\">\r\n",
       "        <path fill=\"#555\" d=\"M0 0h76v20H0z\"/>\r\n",
       "        <path fill=\"#4C1\" d=\"M76 0h43v20H76z\"/>\r\n",
       "        <path fill=\"url(#b)\" d=\"M0 0h119v20H0z\"/>\r\n",
       "    </g>\r\n",
       "    <g fill=\"#fff\" text-anchor=\"middle\" font-family=\"DejaVu Sans,Verdana,Geneva,sans-serif\" font-size=\"11\">\r\n",
       "        <text x=\"39\" y=\"15\" fill=\"#010101\" fill-opacity=\".3\">ARC quality</text>\r\n",
       "        <text x=\"38\" y=\"14\">ARC quality</text>\r\n",
       "    </g>\r\n",
       "    <g fill=\"#fff\" text-anchor=\"middle\" font-family=\"DejaVu Sans,Verdana,Geneva,sans-serif\" font-size=\"11\">\r\n",
       "        <text x=\"98.5\" y=\"15\" fill=\"#010101\" fill-opacity=\".3\">16/20</text>\r\n",
       "        <text x=\"97.5\" y=\"14\">16/20</text>\r\n",
       "    </g>\r\n",
       "</svg>\r\n"
      ]
     },
     "metadata": {},
     "output_type": "display_data"
    }
   ],
   "source": [
    "open Semver\n",
    "open AnyBadge.NET\n",
    "\n",
    "let badge = \n",
    "    Badge(\n",
    "        label = \"ARC quality\", \n",
    "        value = \"16\", \n",
    "        DefaultColor = \"gray\", \n",
    "        Thresholds = ([| (\"15\", \"yellow\"); (\"20\", \"green\"); (\"10\", \"bright_red\"); |] |> Map.ofArray),\n",
    "        ValueSuffix = \"/20\"\n",
    "    )\n",
    "printfn $\"{badge.ValueType}\" \n",
    "\n",
    "badge\n",
    "    .BadgeSvgText\n",
    "    |> DisplayFunctions.HTML"
   ]
  },
  {
   "cell_type": "code",
   "execution_count": 6,
   "metadata": {
    "dotnet_interactive": {
     "language": "fsharp"
    },
    "polyglot_notebook": {
     "kernelName": "fsharp"
    }
   },
   "outputs": [
    {
     "name": "stdout",
     "output_type": "stream",
     "text": [
      "SemverValue\n"
     ]
    },
    {
     "data": {
      "text/html": [
       "<?xml version=\"1.0\" encoding=\"UTF-8\"?>\r\n",
       "<svg xmlns=\"http://www.w3.org/2000/svg\" width=\"119\" height=\"20\">\r\n",
       "    <linearGradient id=\"b\" x2=\"0\" y2=\"100%\">\r\n",
       "        <stop offset=\"0\" stop-color=\"#bbb\" stop-opacity=\".1\"/>\r\n",
       "        <stop offset=\"1\" stop-opacity=\".1\"/>\r\n",
       "    </linearGradient>\r\n",
       "    <mask id=\"5\">\r\n",
       "        <rect width=\"119\" height=\"20\" rx=\"3\" fill=\"#fff\"/>\r\n",
       "    </mask>\r\n",
       "    <g mask=\"url(#5)\">\r\n",
       "        <path fill=\"#555\" d=\"M0 0h76v20H0z\"/>\r\n",
       "        <path fill=\"#4C1\" d=\"M76 0h43v20H76z\"/>\r\n",
       "        <path fill=\"url(#b)\" d=\"M0 0h119v20H0z\"/>\r\n",
       "    </g>\r\n",
       "    <g fill=\"#fff\" text-anchor=\"middle\" font-family=\"DejaVu Sans,Verdana,Geneva,sans-serif\" font-size=\"11\">\r\n",
       "        <text x=\"39\" y=\"15\" fill=\"#010101\" fill-opacity=\".3\">ARC quality</text>\r\n",
       "        <text x=\"38\" y=\"14\">ARC quality</text>\r\n",
       "    </g>\r\n",
       "    <g fill=\"#fff\" text-anchor=\"middle\" font-family=\"DejaVu Sans,Verdana,Geneva,sans-serif\" font-size=\"11\">\r\n",
       "        <text x=\"98.5\" y=\"15\" fill=\"#010101\" fill-opacity=\".3\">16/20</text>\r\n",
       "        <text x=\"97.5\" y=\"14\">16/20</text>\r\n",
       "    </g>\r\n",
       "</svg>\r\n"
      ]
     },
     "metadata": {},
     "output_type": "display_data"
    }
   ],
   "source": [
    "let badge = \n",
    "    Badge(\n",
    "        label = \"ARC quality\", \n",
    "        value = \"16\", \n",
    "        DefaultColor = \"gray\", \n",
    "        Thresholds = ([| (\"15\", \"yellow\"); (\"20\", \"green\"); (\"10\", \"bright_red\"); |] |> Map.ofArray),\n",
    "        ValueSuffix = \"/20\",\n",
    "        Semver = true\n",
    "    )\n",
    "printfn $\"{badge.ValueType}\" \n",
    "\n",
    "badge\n",
    "    .BadgeSvgText\n",
    "    |> DisplayFunctions.HTML"
   ]
  },
  {
   "cell_type": "markdown",
   "metadata": {},
   "source": [
    "or use a typed constructor overload"
   ]
  },
  {
   "cell_type": "code",
   "execution_count": 15,
   "metadata": {
    "dotnet_interactive": {
     "language": "fsharp"
    },
    "polyglot_notebook": {
     "kernelName": "fsharp"
    }
   },
   "outputs": [
    {
     "ename": "Error",
     "evalue": "System.Exception: toFormattedString: unreachable\r\n   at Microsoft.FSharp.Core.PrintfImpl.FloatAndDecimal.toFormattedString(String fmt, Object v) in D:\\a\\_work\\1\\s\\src\\FSharp.Core\\printf.fs:line 860\r\n   at Microsoft.FSharp.Core.PrintfImpl.FloatAndDecimal.withPadding@906-2.Invoke(String fmt, Object v)\r\n   at Microsoft.FSharp.Core.PrintfImpl.OneStepWithArg@508-1.Invoke(A arg1) in D:\\a\\_work\\1\\s\\src\\FSharp.Core\\printf.fs:line 511\r\n   at AnyBadge.NET.Badge..ctor(String label, String value, FSharpOption`1 FontName, FSharpOption`1 FontSize, FSharpOption`1 NumPaddingChars, FSharpOption`1 NumLabelPaddingChars, FSharpOption`1 NumValuePaddingChars, FSharpOption`1 Template, FSharpOption`1 Style, FSharpOption`1 ValuePrefix, FSharpOption`1 ValueSuffix, FSharpOption`1 Thresholds, FSharpOption`1 DefaultColor, FSharpOption`1 UseMaxWhenValueExceeds, FSharpOption`1 ValueFormat, FSharpOption`1 TextColor, FSharpOption`1 Semver) in C:\\Users\\schne\\Source\\repos\\kMutagene\\AnyBadge.NET\\src\\AnyBadge.NET\\Badge.fs:line 60\r\n   at AnyBadge.NET.Badge..ctor(String label, Double value, FSharpOption`1 DefaultColor, FSharpOption`1 FontName, FSharpOption`1 FontSize, FSharpOption`1 NumPaddingChars, FSharpOption`1 NumLabelPaddingChars, FSharpOption`1 NumValuePaddingChars, FSharpOption`1 Template, FSharpOption`1 Style, FSharpOption`1 ValuePrefix, FSharpOption`1 ValueSuffix, FSharpOption`1 Thresholds, FSharpOption`1 UseMaxWhenValueExceeds, FSharpOption`1 ValueFormat, FSharpOption`1 TextColor, FSharpOption`1 Semver) in C:\\Users\\schne\\Source\\repos\\kMutagene\\AnyBadge.NET\\src\\AnyBadge.NET\\Badge.fs:line 602\r\n   at <StartupCode$FSI_0018>.$FSI_0018.main@()\r\n   at System.RuntimeMethodHandle.InvokeMethod(Object target, Void** arguments, Signature sig, Boolean isConstructor)\r\n   at System.Reflection.MethodInvoker.Invoke(Object obj, IntPtr* args, BindingFlags invokeAttr)",
     "output_type": "error",
     "traceback": [
      "System.Exception: toFormattedString: unreachable\r\n",
      "   at Microsoft.FSharp.Core.PrintfImpl.FloatAndDecimal.toFormattedString(String fmt, Object v) in D:\\a\\_work\\1\\s\\src\\FSharp.Core\\printf.fs:line 860\r\n",
      "   at Microsoft.FSharp.Core.PrintfImpl.FloatAndDecimal.withPadding@906-2.Invoke(String fmt, Object v)\r\n",
      "   at Microsoft.FSharp.Core.PrintfImpl.OneStepWithArg@508-1.Invoke(A arg1) in D:\\a\\_work\\1\\s\\src\\FSharp.Core\\printf.fs:line 511\r\n",
      "   at AnyBadge.NET.Badge..ctor(String label, String value, FSharpOption`1 FontName, FSharpOption`1 FontSize, FSharpOption`1 NumPaddingChars, FSharpOption`1 NumLabelPaddingChars, FSharpOption`1 NumValuePaddingChars, FSharpOption`1 Template, FSharpOption`1 Style, FSharpOption`1 ValuePrefix, FSharpOption`1 ValueSuffix, FSharpOption`1 Thresholds, FSharpOption`1 DefaultColor, FSharpOption`1 UseMaxWhenValueExceeds, FSharpOption`1 ValueFormat, FSharpOption`1 TextColor, FSharpOption`1 Semver) in C:\\Users\\schne\\Source\\repos\\kMutagene\\AnyBadge.NET\\src\\AnyBadge.NET\\Badge.fs:line 60\r\n",
      "   at AnyBadge.NET.Badge..ctor(String label, Double value, FSharpOption`1 DefaultColor, FSharpOption`1 FontName, FSharpOption`1 FontSize, FSharpOption`1 NumPaddingChars, FSharpOption`1 NumLabelPaddingChars, FSharpOption`1 NumValuePaddingChars, FSharpOption`1 Template, FSharpOption`1 Style, FSharpOption`1 ValuePrefix, FSharpOption`1 ValueSuffix, FSharpOption`1 Thresholds, FSharpOption`1 UseMaxWhenValueExceeds, FSharpOption`1 ValueFormat, FSharpOption`1 TextColor, FSharpOption`1 Semver) in C:\\Users\\schne\\Source\\repos\\kMutagene\\AnyBadge.NET\\src\\AnyBadge.NET\\Badge.fs:line 602\r\n",
      "   at <StartupCode$FSI_0018>.$FSI_0018.main@()\r\n",
      "   at System.RuntimeMethodHandle.InvokeMethod(Object target, Void** arguments, Signature sig, Boolean isConstructor)\r\n",
      "   at System.Reflection.MethodInvoker.Invoke(Object obj, IntPtr* args, BindingFlags invokeAttr)"
     ]
    }
   ],
   "source": [
    "let badge = \n",
    "    Badge(\n",
    "        label = \"ARC quality\", \n",
    "        value = 16.5, \n",
    "        DefaultColor = \"gray\", \n",
    "        Thresholds = ([| (15., \"yellow\"); (20., \"green\"); (10., \"bright_red\"); |] |> Map.ofArray),\n",
    "        ValueSuffix = \"/20\"\n",
    "    )\n",
    "printfn $\"{badge.ValueType}\" \n",
    "\n",
    "badge\n",
    "    .BadgeSvgText\n",
    "    |> DisplayFunctions.HTML"
   ]
  }
 ],
 "metadata": {
  "kernelspec": {
   "display_name": ".NET (C#)",
   "language": "C#",
   "name": ".net-csharp"
  },
  "language_info": {
   "name": "polyglot-notebook"
  },
  "polyglot_notebook": {
   "kernelInfo": {
    "defaultKernelName": "csharp",
    "items": [
     {
      "aliases": [],
      "name": "csharp"
     },
     {
      "aliases": [],
      "languageName": "fsharp",
      "name": "fsharp"
     }
    ]
   }
  }
 },
 "nbformat": 4,
 "nbformat_minor": 2
}
