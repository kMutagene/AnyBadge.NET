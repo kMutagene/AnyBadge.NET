{
 "cells": [
  {
   "cell_type": "code",
   "execution_count": 3,
   "metadata": {
    "dotnet_interactive": {
     "language": "fsharp"
    },
    "polyglot_notebook": {
     "kernelName": "fsharp"
    }
   },
   "outputs": [
    {
     "data": {
      "text/html": [
       "<div><div></div><div></div><div><strong>Installed Packages</strong><ul><li><span>Semver, 2.3.0</span></li></ul></div></div>"
      ]
     },
     "metadata": {},
     "output_type": "display_data"
    }
   ],
   "source": [
    "#r \"nuget: Semver\"\n",
    "#r \"bin/Debug/net6.0/AnyBadge.NET.dll\""
   ]
  },
  {
   "cell_type": "code",
   "execution_count": 5,
   "metadata": {
    "dotnet_interactive": {
     "language": "fsharp"
    },
    "polyglot_notebook": {
     "kernelName": "fsharp"
    }
   },
   "outputs": [
    {
     "data": {
      "text/html": [
       "<?xml version=\"1.0\" encoding=\"UTF-8\"?>\n",
       "<svg xmlns=\"http://www.w3.org/2000/svg\" width=\"119\" height=\"20\">\n",
       "    <linearGradient id=\"b\" x2=\"0\" y2=\"100%\">\n",
       "        <stop offset=\"0\" stop-color=\"#bbb\" stop-opacity=\".1\"/>\n",
       "        <stop offset=\"1\" stop-opacity=\".1\"/>\n",
       "    </linearGradient>\n",
       "    <mask id=\"3\">\n",
       "        <rect width=\"119\" height=\"20\" rx=\"3\" fill=\"#fff\"/>\n",
       "    </mask>\n",
       "    <g mask=\"url(#3)\">\n",
       "        <path fill=\"#555\" d=\"M0 0h76v20H0z\"/>\n",
       "        <path fill=\"#4C1\" d=\"M76 0h43v20H76z\"/>\n",
       "        <path fill=\"url(#b)\" d=\"M0 0h119v20H0z\"/>\n",
       "    </g>\n",
       "    <g fill=\"#ff\" text-anchor=\"middle\" font-family=\"DejaVu Sans,Verdana,Geneva,sans-serif\" font-size=\"11\">\n",
       "        <text x=\"39\" y=\"15\" fill=\"#010101\" fill-opacity=\".3\">ARC quality</text>\n",
       "        <text x=\"38\" y=\"14\">ARC quality</text>\n",
       "    </g>\n",
       "    <g fill=\"#ff\" text-anchor=\"middle\" font-family=\"DejaVu Sans,Verdana,Geneva,sans-serif\" font-size=\"11\">\n",
       "        <text x=\"98.5\" y=\"15\" fill=\"#010101\" fill-opacity=\".3\">16/20</text>\n",
       "        <text x=\"97.5\" y=\"14\">16/20</text>\n",
       "    </g>\n",
       "</svg>\n"
      ]
     },
     "metadata": {},
     "output_type": "display_data"
    }
   ],
   "source": [
    "open Semver\n",
    "open AnyBadge.NET\n",
    "\n",
    "Badge(\n",
    "    label = \"ARC quality\", \n",
    "    value = \"16\", \n",
    "    DefaultColor = \"gray\", \n",
    "    TextColor = \"#ff\",\n",
    "    Thresholds = ([| (\"15\", \"yellow\"); (\"20\", \"green\"); (\"10\", \"bright_red\"); |] |> Map.ofArray),\n",
    "    ValueSuffix = \"/20\"\n",
    ")\n",
    "    .BadgeSvgText\n",
    "    |> DisplayFunctions.HTML"
   ]
  },
  {
   "cell_type": "code",
   "execution_count": null,
   "metadata": {
    "dotnet_interactive": {
     "language": "fsharp"
    },
    "polyglot_notebook": {
     "kernelName": "fsharp"
    }
   },
   "outputs": [],
   "source": []
  }
 ],
 "metadata": {
  "kernelspec": {
   "display_name": ".NET (C#)",
   "language": "C#",
   "name": ".net-csharp"
  },
  "language_info": {
   "name": "polyglot-notebook"
  },
  "polyglot_notebook": {
   "kernelInfo": {
    "defaultKernelName": "csharp",
    "items": [
     {
      "aliases": [],
      "name": "csharp"
     },
     {
      "aliases": [],
      "languageName": "fsharp",
      "name": "fsharp"
     }
    ]
   }
  }
 },
 "nbformat": 4,
 "nbformat_minor": 2
}
